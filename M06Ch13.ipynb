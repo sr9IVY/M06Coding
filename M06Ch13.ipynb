{
 "cells": [
  {
   "cell_type": "code",
   "execution_count": null,
   "id": "7ff326c1-61c9-4ce9-9a71-a0e99c50b12c",
   "metadata": {},
   "outputs": [],
   "source": [
    "#Student: Sidart Rav\n",
    "#Filename: M06Vh13.ipynb\n",
    "from datetime import datetime\n",
    "\n",
    "#13-1 Write today's date to a file\n",
    "today = datetime.today().strftime(\"%A, %B %d, %Y\")\n",
    "with open(\"today.txt\", \"w\") as file:\n",
    "    file.write(today)\n",
    "\n",
    "#13-2. Read the file content into a string\n",
    "with open(\"today.txt\", \"r\") as file:\n",
    "    today_string = file.read().strip()  # Strip any unwanted whitespace\n",
    "\n",
    "#13-3. Parse and print the date\n",
    "parsed_date = datetime.strptime(today_string, \"%A, %B %d, %Y\").date()\n",
    "print(\"Today's date is:\", parsed_date)"
   ]
  },
  {
   "cell_type": "code",
   "execution_count": null,
   "id": "660c99c7-3dbf-4b45-b406-fd4ade7bd19b",
   "metadata": {},
   "outputs": [],
   "source": []
  }
 ],
 "metadata": {
  "kernelspec": {
   "display_name": "Python 3 (ipykernel)",
   "language": "python",
   "name": "python3"
  },
  "language_info": {
   "codemirror_mode": {
    "name": "ipython",
    "version": 3
   },
   "file_extension": ".py",
   "mimetype": "text/x-python",
   "name": "python",
   "nbconvert_exporter": "python",
   "pygments_lexer": "ipython3",
   "version": "3.13.2"
  }
 },
 "nbformat": 4,
 "nbformat_minor": 5
}
